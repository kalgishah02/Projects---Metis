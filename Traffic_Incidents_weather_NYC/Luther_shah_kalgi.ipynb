{
 "cells": [
  {
   "cell_type": "markdown",
   "metadata": {},
   "source": [
    "# Project Luther - Kalgi Shah\n",
    "### Date: 7th Oct'17"
   ]
  },
  {
   "cell_type": "code",
   "execution_count": 1,
   "metadata": {},
   "outputs": [
    {
     "name": "stderr",
     "output_type": "stream",
     "text": [
      "/home/kalgi/anaconda3/lib/python3.6/site-packages/sklearn/cross_validation.py:44: DeprecationWarning: This module was deprecated in version 0.18 in favor of the model_selection module into which all the refactored classes and functions are moved. Also note that the interface of the new CV iterators are different from that of this module. This module will be removed in 0.20.\n",
      "  \"This module will be removed in 0.20.\", DeprecationWarning)\n"
     ]
    }
   ],
   "source": [
    "#importing all the modules used for the project\n",
    "import re\n",
    "import pandas as pd\n",
    "import csv\n",
    "import time\n",
    "import glob\n",
    "import os\n",
    "import numpy as np\n",
    "import matplotlib.pyplot as plt\n",
    "import seaborn as sns\n",
    "from datetime import date, timedelta\n",
    "import dateutil.parser as dparser\n",
    "from sklearn.cross_validation import train_test_split\n",
    "from sklearn.linear_model import LinearRegression, Lasso, LassoCV\n",
    "from sklearn.metrics import mean_absolute_error, mean_squared_error\n",
    "from sklearn.linear_model import Lasso\n",
    "\n",
    "%matplotlib inline\n",
    "\n",
    "# Scraped weather data for different dates and stored it as csv's in the local machine.\n",
    "# Converting all variables in the int/float format by striping it as well as conversions to datetime.\n",
    "def get_weather_df():\n",
    "    path =r'/home/kalgi/ds/metis/projects/Luther/scraping/' # use your path\n",
    "    allFiles = glob.glob(path + \"*\")\n",
    "    weather = pd.DataFrame()\n",
    "    list_ = []\n",
    "    for file_ in allFiles:\n",
    "        df = pd.read_csv(file_,index_col=None, header=0, sep='\\t')\n",
    "        list_.append(df)\n",
    "    weather = pd.concat(list_)\n",
    "\n",
    "    weather['Time'] = weather.apply(lambda row: row['Time (EDT)'] if pd.notnull(row['Time (EDT)']) else row['Time (EST)'], axis=1)\n",
    "    weather['DATE&TIME'] = weather['date'] + \" \" + weather['Time']\n",
    "    weather['DATETIME'] = pd.to_datetime(weather['DATE&TIME'], format='%Y-%m-%d %H:%M %p')\n",
    "    weather = weather.filter(['Conditions','Dew Point','Humidity','Pressure','Temp.','Visibility','DATETIME'], axis=1).copy()\n",
    "    weather['Visibility'] = weather['Visibility'].apply(lambda x: x.rstrip('mi'))\n",
    "    weather['Dew Point'] = weather['Dew Point'].apply(lambda x: x.rstrip('°F'))\n",
    "    weather['Pressure'] = weather['Pressure'].apply(lambda x: x.rstrip('in'))\n",
    "    weather['Temp.'] = weather['Temp.'].apply(lambda x: x.rstrip('°F'))\n",
    "    weather['Humidity'] = weather['Humidity'].apply(lambda x: x.rstrip('%'))\n",
    "    weather['DATETIME'] = weather.DATETIME.apply(lambda x: pd.datetime(x.year, x.month, x.day, x.hour))\n",
    "    weather['Time_Hour'] = weather['DATETIME'].dt.hour\n",
    "    #start_date = pd.to_datetime('09/01/2015')\n",
    "    #end_date = pd.to_datetime('09/01/2016')\n",
    "    #weather_small = weather[(weather['DATETIME'] >= start_date) & (weather['DATETIME'] <= end_date)]\n",
    "    return weather\n",
    "\n",
    "# Function defined to read traffic incidents data from the csv stored in the local machine and merging some features and basic cleaning for data\n",
    "def get_incidents_df():\n",
    "    raw_incidents = pd.read_csv('/home/kalgi/ds/metis/projects/Luther/NYPD_Motor_Vehicle_Collisions.csv')\n",
    "    traffic_incidents = raw_incidents.filter(['DATE','TIME','BOROUGH','ZIP CODE','LATITUDE','LONGITUDE','LOCATION','NUMBER OF PERSONS INJURED','NUMBER OF PERSONS KILLED','NUMBER OF PEDESTRIANS INJURED','NUMBER OF PEDESTRIANS KILLED','NUMBER OF CYCLIST INJURED','NUMBER OF CYCLIST KILLED','NUMBER OF MOTORIST INJURED','NUMBER OF MOTORIST KILLED'], axis=1).copy()\n",
    "    traffic_incidents['DATE&TIME'] = traffic_incidents['DATE'] + \" \" + traffic_incidents['TIME']\n",
    "    traffic_incidents['DATETIME'] = pd.to_datetime(traffic_incidents['DATE&TIME'], format='%m/%d/%Y %H:%M')\n",
    "    traffic_incidents['DATETIME'] = traffic_incidents.DATETIME.map(lambda x: pd.datetime(x.year, x.month, x.day, x.hour))\n",
    "    traffic_incidents['INCIDENT_COUNT'] = traffic_incidents['NUMBER OF PERSONS INJURED'] + traffic_incidents['NUMBER OF PERSONS KILLED']\n",
    "    traffic_incidents['PEDESTRIAN_COUNT'] = traffic_incidents['NUMBER OF PEDESTRIANS INJURED'] + traffic_incidents['NUMBER OF PEDESTRIANS KILLED']\n",
    "    traffic_incidents['CYCLIST_COUNT'] = traffic_incidents['NUMBER OF CYCLIST INJURED'] + traffic_incidents['NUMBER OF CYCLIST KILLED']\n",
    "    traffic_incidents['MOTORIST_COUNT'] = traffic_incidents['NUMBER OF MOTORIST INJURED'] + traffic_incidents['NUMBER OF MOTORIST KILLED']\n",
    "    #start_date = pd.to_datetime('09/01/2016')\n",
    "    #end_date = pd.to_datetime('12/01/2016')\n",
    "    #traffic_incidents_small = traffic_incidents[(traffic_incidents['DATETIME'] >= start_date) & (traffic_incidents['DATETIME'] <= end_date)]\n",
    "    return traffic_incidents"
   ]
  },
  {
   "cell_type": "code",
   "execution_count": 2,
   "metadata": {},
   "outputs": [
    {
     "name": "stderr",
     "output_type": "stream",
     "text": [
      "/home/kalgi/anaconda3/lib/python3.6/site-packages/IPython/core/interactiveshell.py:2821: DtypeWarning: Columns (3) have mixed types. Specify dtype option on import or set low_memory=False.\n",
      "  if self.run_code(code, result):\n"
     ]
    }
   ],
   "source": [
    "# Function calls for both datasets\n",
    "weather = get_weather_df()\n",
    "incidents = get_incidents_df()\n",
    "\n",
    "incidents['INCIDENT_COUNT_rebased'] = incidents['INCIDENT_COUNT'].apply(lambda x:x+1)\n",
    "# incidents = incidents[(incidents['INCIDENT_COUNT'] > 0)]\n",
    "\n",
    "incident_weather = pd.merge(incidents,weather, on='DATETIME',how = 'inner')\n"
   ]
  },
  {
   "cell_type": "code",
   "execution_count": 21,
   "metadata": {},
   "outputs": [
    {
     "data": {
      "text/plain": [
       "193545"
      ]
     },
     "execution_count": 21,
     "metadata": {},
     "output_type": "execute_result"
    }
   ],
   "source": [
    "# Converting all features to numeric\n",
    "incident_weather['Visibility'] = pd.to_numeric(incident_weather['Visibility'], errors='coerce')\n",
    "incident_weather['Dew Point'] = pd.to_numeric(incident_weather['Dew Point'], errors='coerce')\n",
    "incident_weather['Pressure'] = pd.to_numeric(incident_weather['Pressure'], errors='coerce')\n",
    "incident_weather['Temp.'] = pd.to_numeric(incident_weather['Temp.'], errors='coerce')\n",
    "incident_weather['Humidity'] = pd.to_numeric(incident_weather['Humidity'], errors='coerce')\n",
    "\n",
    "incident_weather.dropna(axis=0,how='any',subset=['Visibility','Dew Point', 'Pressure', 'Temp.','Humidity'], inplace=True)\n",
    "len(incident_weather)"
   ]
  },
  {
   "cell_type": "code",
   "execution_count": 4,
   "metadata": {
    "collapsed": true,
    "scrolled": true
   },
   "outputs": [],
   "source": [
    "# Combining features for simplicity  \n",
    "combined = pd.get_dummies(data = incident_weather, columns = ['Conditions'])\n",
    "combined['snow'] = combined.apply(lambda row: 1 if (row['Conditions_Heavy Snow'] == 1) else 0, axis=1)\n",
    "combined['rains'] = combined.apply(lambda row: 1 if (row['Conditions_Heavy Rain'] == 1) else 0, axis=1)\n",
    "combined['light_snow'] = combined.apply(lambda row: 1 if (row['Conditions_Light Snow'] == 1 or row['Conditions_Snow'] == 1) else 0, axis=1)\n",
    "combined['light_rains'] = combined.apply(lambda row: 1 if (row['Conditions_Light Rain'] == 1 or row['Conditions_Rain'] == 1) else 0, axis=1)"
   ]
  },
  {
   "cell_type": "code",
   "execution_count": 5,
   "metadata": {
    "collapsed": true
   },
   "outputs": [],
   "source": [
    "#Defining variables for linear regression\n",
    "x = ['Visibility','Dew Point','Pressure','Temp.','snow', 'rains', 'light_snow', 'light_rains', 'Conditions_Haze']\n",
    "y = ['INCIDENT_COUNT','PEDESTRIAN_COUNT','CYCLIST_COUNT','MOTORIST_COUNT','INCIDENT_COUNT_rebased']\n",
    "group = ['DATETIME','BOROUGH', 'LATITUDE', 'LONGITUDE']\n",
    "filtered = combined[group + x+y]"
   ]
  },
  {
   "cell_type": "code",
   "execution_count": 6,
   "metadata": {
    "collapsed": true
   },
   "outputs": [],
   "source": [
    "# Aggregation on features\n",
    "agg_map = {\n",
    "    'Visibility' : np.mean,\n",
    "    'Dew Point' : np.mean,\n",
    "    'Pressure'  : np.mean,\n",
    "    'Temp.' : np.mean,\n",
    "#    'Humidity' : np.mean,\n",
    "    'light_snow' : np.mean,\n",
    "    'light_rains' : np.mean,\n",
    "    'snow'  : np.max,\n",
    "    'rains'  : np.max,\n",
    "    'Conditions_Haze' : np.max,\n",
    "    'INCIDENT_COUNT': np.sum,\n",
    "    'PEDESTRIAN_COUNT': np.sum,\n",
    "    'CYCLIST_COUNT': np.sum,\n",
    "    'MOTORIST_COUNT': np.sum,\n",
    "    'INCIDENT_COUNT_rebased': np.sum\n",
    "}\n",
    "aggregated = filtered.groupby(group, as_index=False).agg(agg_map)"
   ]
  },
  {
   "cell_type": "code",
   "execution_count": 7,
   "metadata": {},
   "outputs": [
    {
     "data": {
      "text/plain": [
       "Index(['DATETIME', 'BOROUGH', 'LATITUDE', 'LONGITUDE', 'Visibility',\n",
       "       'Dew Point', 'Pressure', 'Temp.', 'light_snow', 'light_rains', 'snow',\n",
       "       'rains', 'Conditions_Haze', 'INCIDENT_COUNT', 'PEDESTRIAN_COUNT',\n",
       "       'CYCLIST_COUNT', 'MOTORIST_COUNT', 'INCIDENT_COUNT_rebased'],\n",
       "      dtype='object')"
      ]
     },
     "execution_count": 7,
     "metadata": {},
     "output_type": "execute_result"
    }
   ],
   "source": [
    "# Filtering visibility data\n",
    "filtered_agg = aggregated[aggregated['Visibility'] > 1]\n",
    "filtered_agg.columns"
   ]
  },
  {
   "cell_type": "code",
   "execution_count": 8,
   "metadata": {},
   "outputs": [
    {
     "data": {
      "text/plain": [
       "LATITUDE                 -0.028023\n",
       "LONGITUDE                 0.037885\n",
       "Visibility               -0.099322\n",
       "Dew Point                 0.037791\n",
       "Pressure                 -0.029136\n",
       "Temp.                     0.006797\n",
       "light_snow                0.035297\n",
       "light_rains               0.072938\n",
       "snow                           NaN\n",
       "rains                     0.061200\n",
       "Conditions_Haze           0.022952\n",
       "INCIDENT_COUNT            1.000000\n",
       "PEDESTRIAN_COUNT          0.339736\n",
       "CYCLIST_COUNT             0.171857\n",
       "MOTORIST_COUNT            0.880574\n",
       "INCIDENT_COUNT_rebased    0.857264\n",
       "Name: INCIDENT_COUNT, dtype: float64"
      ]
     },
     "execution_count": 8,
     "metadata": {},
     "output_type": "execute_result"
    }
   ],
   "source": [
    "filtered_agg.corr()[\"INCIDENT_COUNT\"]"
   ]
  },
  {
   "cell_type": "code",
   "execution_count": null,
   "metadata": {
    "collapsed": true
   },
   "outputs": [],
   "source": [
    "# Potting coloured pairplot based on Boroughs\n",
    "sns.pairplot(filtered_agg, x_vars = x, y_vars = y, kind = 'reg', hue = 'BOROUGH')"
   ]
  },
  {
   "cell_type": "markdown",
   "metadata": {},
   "source": [
    "## Linear Regression"
   ]
  },
  {
   "cell_type": "code",
   "execution_count": 9,
   "metadata": {},
   "outputs": [
    {
     "data": {
      "text/plain": [
       "143.16185581098469"
      ]
     },
     "execution_count": 9,
     "metadata": {},
     "output_type": "execute_result"
    }
   ],
   "source": [
    "X=filtered_agg.loc[:,x]\n",
    "y=filtered_agg['INCIDENT_COUNT_rebased']\n",
    "X_train, X_test, y_train, y_test = train_test_split(X, y, test_size=0.2,random_state=45)\n",
    "\n",
    "from sklearn.pipeline import Pipeline\n",
    "from sklearn.preprocessing import StandardScaler\n",
    "from sklearn.linear_model import lars_path\n",
    "\n",
    "# from matplotlib import pyplot as plt\n",
    "# std = StandardScaler()\n",
    "# std.fit(X_train)\n",
    "# X_tr = std.transform(X_train)\n",
    "# X_te = std.transform(X_test)\n",
    "\n",
    "\n",
    "model_lr_log = LinearRegression()\n",
    "model_lr_log.fit(X_train, y_train)\n",
    "pred_vals_lr_log = np.exp(model_lr_log.predict(X_test))\n",
    "RMSE_lr_log = np.sqrt(np.sum((pred_vals_lr_log - y_test)**2)/len(y_test))\n",
    "RMSE_lr_log"
   ]
  },
  {
   "cell_type": "code",
   "execution_count": 10,
   "metadata": {},
   "outputs": [
    {
     "data": {
      "text/plain": [
       "[<matplotlib.lines.Line2D at 0x7f1bfab46550>]"
      ]
     },
     "execution_count": 10,
     "metadata": {},
     "output_type": "execute_result"
    },
    {
     "data": {
      "image/png": "[encoded data removed]",
      "text/plain": [
       "<matplotlib.figure.Figure at 0x7f1bfab46588>"
      ]
     },
     "metadata": {},
     "output_type": "display_data"
    }
   ],
   "source": [
    "temp = np.linspace(0,10,10)\n",
    "\n",
    "plt.scatter(y_test,pred_vals_lr_log, alpha = .1)\n",
    "plt.plot(temp,temp,'k--')"
   ]
  },
  {
   "cell_type": "code",
   "execution_count": 11,
   "metadata": {},
   "outputs": [
    {
     "data": {
      "text/plain": [
       "[('rains', 1.8250323093366789),\n",
       " ('light_snow', 1.6066141589528602),\n",
       " ('light_rains', 1.0041995658335026),\n",
       " ('Visibility', 0.28142802130867473),\n",
       " ('Pressure', 0.25065901255207584),\n",
       " ('Conditions_Haze', 0.15520031642990323),\n",
       " ('Temp.', 0.031236271417541702),\n",
       " ('Dew Point', 0.027571891321805569),\n",
       " ('snow', 0.0)]"
      ]
     },
     "execution_count": 11,
     "metadata": {},
     "output_type": "execute_result"
    }
   ],
   "source": [
    "sorted(zip(X.columns,abs(model_lr_log.coef_)), key=lambda x: -x[1])"
   ]
  },
  {
   "cell_type": "markdown",
   "metadata": {},
   "source": [
    "### R-Square for Linear Regression"
   ]
  },
  {
   "cell_type": "code",
   "execution_count": 13,
   "metadata": {},
   "outputs": [
    {
     "data": {
      "text/plain": [
       "0.19458312125872446"
      ]
     },
     "execution_count": 13,
     "metadata": {},
     "output_type": "execute_result"
    }
   ],
   "source": [
    "model_lr_log.score(X_test, y_test)"
   ]
  },
  {
   "cell_type": "markdown",
   "metadata": {},
   "source": [
    "## Random Forest "
   ]
  },
  {
   "cell_type": "code",
   "execution_count": 14,
   "metadata": {},
   "outputs": [
    {
     "data": {
      "text/plain": [
       "2.7557937487132009"
      ]
     },
     "execution_count": 14,
     "metadata": {},
     "output_type": "execute_result"
    }
   ],
   "source": [
    "from sklearn.ensemble import RandomForestRegressor\n",
    "\n",
    "# Initializing model with hundred trees, one forest and 8 leafs\n",
    "model = RandomForestRegressor(n_estimators=100, min_samples_leaf=8, random_state=1)\n",
    "# Fitting the model\n",
    "model.fit(X_train, y_train)\n",
    "# MAking predictions\n",
    "predictions = model.predict(X_test)\n",
    "# Compute the mean_squared_error\n",
    "mean_squared_error(predictions, y_test)"
   ]
  },
  {
   "cell_type": "markdown",
   "metadata": {},
   "source": [
    "### R-Square for Random Forest"
   ]
  },
  {
   "cell_type": "code",
   "execution_count": 15,
   "metadata": {},
   "outputs": [
    {
     "data": {
      "text/plain": [
       "0.37068616749301009"
      ]
     },
     "execution_count": 15,
     "metadata": {},
     "output_type": "execute_result"
    }
   ],
   "source": [
    "model.score(X_test, y_test)"
   ]
  },
  {
   "cell_type": "markdown",
   "metadata": {},
   "source": [
    "## Lasso Model"
   ]
  },
  {
   "cell_type": "code",
   "execution_count": 16,
   "metadata": {},
   "outputs": [
    {
     "data": {
      "text/plain": [
       "132.71544312996599"
      ]
     },
     "execution_count": 16,
     "metadata": {},
     "output_type": "execute_result"
    }
   ],
   "source": [
    "alphavec = 10**np.linspace(-3,9,2)\n",
    "lasso_model = LassoCV(alphas = alphavec, cv =2)\n",
    "lasso_model.fit(X_train, y_train)\n",
    "pred_vals_lr_log = np.exp(lasso_model.predict(X_test))\n",
    "RMSE_lr_log = np.sqrt(np.sum((pred_vals_lr_log - y_test)**2)/len(y_test))\n",
    "RMSE_lr_log"
   ]
  },
  {
   "cell_type": "code",
   "execution_count": 17,
   "metadata": {},
   "outputs": [
    {
     "data": {
      "text/plain": [
       "[('Visibility', -0.29373157535800076),\n",
       " ('Dew Point', 0.027529903432761238),\n",
       " ('Pressure', -0.2321114783063741),\n",
       " ('Temp.', -0.031499525308617729),\n",
       " ('snow', 0.0),\n",
       " ('rains', 1.7140672375918806),\n",
       " ('light_snow', 1.3530515537149781),\n",
       " ('light_rains', 0.9097605657777178),\n",
       " ('Conditions_Haze', -0.16277495500501041)]"
      ]
     },
     "execution_count": 17,
     "metadata": {},
     "output_type": "execute_result"
    }
   ],
   "source": [
    "list(zip(x,lasso_model.coef_))"
   ]
  },
  {
   "cell_type": "code",
   "execution_count": 18,
   "metadata": {
    "collapsed": true
   },
   "outputs": [],
   "source": [
    "test_set_pred3 = lasso_model.predict(X_test.loc[:,x])"
   ]
  },
  {
   "cell_type": "code",
   "execution_count": 19,
   "metadata": {},
   "outputs": [
    {
     "data": {
      "text/plain": [
       "1.8779923074823659"
      ]
     },
     "execution_count": 19,
     "metadata": {},
     "output_type": "execute_result"
    }
   ],
   "source": [
    "np.sqrt(np.mean((test_set_pred3 - y_test)**2))"
   ]
  },
  {
   "cell_type": "markdown",
   "metadata": {},
   "source": [
    "### R-Square for Lasso Model"
   ]
  },
  {
   "cell_type": "code",
   "execution_count": 20,
   "metadata": {},
   "outputs": [
    {
     "data": {
      "text/plain": [
       "0.19460637970600247"
      ]
     },
     "execution_count": 20,
     "metadata": {},
     "output_type": "execute_result"
    }
   ],
   "source": [
    "lasso_model.score(X_test, y_test)"
   ]
  }
 ],
 "metadata": {
  "kernelspec": {
   "display_name": "Python 3",
   "language": "python",
   "name": "python3"
  },
  "language_info": {
   "codemirror_mode": {
    "name": "ipython",
    "version": 3
   },
   "file_extension": ".py",
   "mimetype": "text/x-python",
   "name": "python",
   "nbconvert_exporter": "python",
   "pygments_lexer": "ipython3",
   "version": "3.6.1"
  }
 },
 "nbformat": 4,
 "nbformat_minor": 2
}
